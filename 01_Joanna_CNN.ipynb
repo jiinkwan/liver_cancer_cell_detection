{
 "cells": [
  {
   "cell_type": "code",
   "execution_count": 5,
   "id": "b9f8ee7a-85a3-4f59-a240-a9f5589c7031",
   "metadata": {},
   "outputs": [],
   "source": [
    "import os\n",
    "import torch\n",
    "import torch.nn as nn\n",
    "import torch.nn.functional as F\n",
    "import torch.optim as optim\n",
    "from torch.utils.data import DataLoader\n",
    "from PIL import Image\n",
    "from torch.utils.data import Dataset, DataLoader\n",
    "from torchvision import transforms\n",
    "from torchvision.utils import make_grid\n",
    "import matplotlib.pyplot as plt\n",
    "from sklearn.metrics import classification_report, confusion_matrix\n",
    "import seaborn as sns\n",
    "import numpy as np\n",
    "from sklearn.model_selection import train_test_split\n",
    "\n"
   ]
  },
  {
   "cell_type": "code",
   "execution_count": 17,
   "id": "76ccc2ae-6f22-478d-b2a1-4422b9918edf",
   "metadata": {},
   "outputs": [],
   "source": [
    "# ----------------------------\n",
    "# Dataset and Transform\n",
    "# ----------------------------\n",
    "class LiverCancerUltrasoundDataset(Dataset):\n",
    "    def __init__(self, image_paths, labels, transform=None):\n",
    "        self.image_paths = image_paths\n",
    "        self.labels = labels\n",
    "        self.transform = transform\n",
    "\n",
    "    def __len__(self):\n",
    "        return len(self.image_paths)\n",
    "\n",
    "    def __getitem__(self, idx):\n",
    "        img = Image.open(self.image_paths[idx]).convert(\"L\")  \n",
    "        if self.transform:\n",
    "            img = self.transform(img)\n",
    "        return img, self.labels[idx]\n",
    "\n",
    "def build_dataset(base_dir):\n",
    "    dataset_dir = os.path.join(base_dir, '7272660')\n",
    "    classes = {'Normal': 0, 'Benign': 1, 'Malignant': 2}\n",
    "    image_paths = []\n",
    "    labels = []\n",
    "\n",
    "    for cls, label in classes.items():\n",
    "        folder = os.path.join(dataset_dir, cls, cls, 'image')  \n",
    "        if not os.path.exists(folder):\n",
    "            continue  \n",
    "        for fname in os.listdir(folder):\n",
    "            if fname.endswith(('.png', '.jpg', '.jpeg')):\n",
    "                image_paths.append(os.path.join(folder, fname))\n",
    "                labels.append(label)\n",
    "\n",
    "    return image_paths, labels\n",
    "\n",
    "base_dir = \"ultrasound_liver_dataset\"\n",
    "image_paths, labels = build_dataset(base_dir)\n",
    "\n",
    "\n",
    "\n",
    "\n",
    "train_paths, val_paths, train_labels, val_labels = train_test_split(\n",
    "    image_paths, labels, test_size=0.2, random_state=42, stratify=labels\n",
    ")\n",
    "\n",
    "\n",
    "transform = transforms.Compose([\n",
    "    transforms.Resize((224, 224)),  ###\n",
    "    transforms.ToTensor(),          \n",
    "])\n",
    "\n",
    "train_dataset = LiverCancerUltrasoundDataset(train_paths, train_labels, transform)\n",
    "val_dataset = LiverCancerUltrasoundDataset(val_paths, val_labels, transform)\n",
    "\n",
    "train_loader = DataLoader(train_dataset, batch_size=16, shuffle=True)\n",
    "val_loader = DataLoader(val_dataset, batch_size=16, shuffle=False)\n"
   ]
  },
  {
   "cell_type": "code",
   "execution_count": 55,
   "id": "57fa01d2-39d5-4e24-859e-3fae21e58fcc",
   "metadata": {},
   "outputs": [],
   "source": [
    "# ----------------------------\n",
    "# Model Definition\n",
    "# ----------------------------\n",
    "class MCDropoutCNN(nn.Module):\n",
    "    def __init__(self, dropout_rate=0.5):\n",
    "        super().__init__()\n",
    "        self.conv1 = nn.Conv2d(1, 32, kernel_size=3, padding=1)\n",
    "        self.conv2 = nn.Conv2d(32, 64, kernel_size=3, padding=1)\n",
    "        self.pool = nn.MaxPool2d(2, 2)\n",
    "        self.dropout = nn.Dropout(p=dropout_rate)\n",
    "        self.fc1 = nn.Linear(64 * 56 * 56, 128)\n",
    "        self.fc2 = nn.Linear(128, 3)\n",
    "\n",
    "    def forward(self, x):\n",
    "        x = self.pool(F.relu(self.conv1(x)))\n",
    "        x = self.pool(F.relu(self.conv2(x)))\n",
    "        x = x.view(x.size(0), -1)\n",
    "        x = self.dropout(F.relu(self.fc1(x)))\n",
    "        x = self.fc2(x)\n",
    "        return x\n",
    "\n",
    "# MC Dropout inference\n",
    "\n",
    "def mc_predict(model, x, n_iter=20):\n",
    "    model.train()  # Enable dropout\n",
    "    preds = []\n",
    "    with torch.no_grad():\n",
    "        for _ in range(n_iter):\n",
    "            logits = model(x)\n",
    "            probs = F.softmax(logits, dim=1)\n",
    "            preds.append(probs.unsqueeze(0))\n",
    "    preds = torch.cat(preds, dim=0)\n",
    "    mean = preds.mean(dim=0)\n",
    "    std = preds.std(dim=0)\n",
    "    return mean, std"
   ]
  },
  {
   "cell_type": "code",
   "execution_count": 57,
   "id": "d6d4518a-7f93-4c03-b150-b96195b3ac55",
   "metadata": {},
   "outputs": [],
   "source": [
    "# ----------------------------\n",
    "# Training and Evaluation\n",
    "# ----------------------------\n",
    "def train_model(model, dataloader, criterion, optimizer, device):\n",
    "    model.train()\n",
    "    running_loss = 0.0\n",
    "    correct = 0\n",
    "    total = 0\n",
    "    for images, labels in dataloader:\n",
    "        images, labels = images.to(device), labels.to(device)\n",
    "        optimizer.zero_grad()\n",
    "        outputs = model(images)\n",
    "        loss = criterion(outputs, labels)\n",
    "        loss.backward()\n",
    "        optimizer.step()\n",
    "        running_loss += loss.item() * images.size(0)\n",
    "        _, preds = torch.max(outputs, 1)\n",
    "        correct += (preds == labels).sum().item()\n",
    "        total += labels.size(0)\n",
    "    return running_loss / total, correct / total\n",
    "\n",
    "def evaluate_model(model, dataloader, device, n_iter=20):\n",
    "    model.train()  # Required for MC Dropout\n",
    "    all_preds, all_labels, uncertainty_vals = [], [], []\n",
    "    with torch.no_grad():\n",
    "        for images, labels in dataloader:\n",
    "            images, labels = images.to(device), labels.to(device)\n",
    "            mean_probs, std_probs = mc_predict(model, images, n_iter)\n",
    "            preds = mean_probs.argmax(dim=1)\n",
    "            all_preds.extend(preds.cpu().numpy())\n",
    "            all_labels.extend(labels.cpu().numpy())\n",
    "            uncertainty = std_probs.max(dim=1).values\n",
    "            uncertainty_vals.extend(uncertainty.cpu().numpy())\n",
    "    return np.array(all_preds), np.array(all_labels), np.array(uncertainty_vals)\n"
   ]
  },
  {
   "cell_type": "code",
   "execution_count": null,
   "id": "c1441614-6d6b-4c38-a878-5a0dfc8b72d0",
   "metadata": {},
   "outputs": [],
   "source": [
    "# ----------------------------\n",
    "# Main Training Loop\n",
    "# ----------------------------\n",
    "device = torch.device(\"cuda\" if torch.cuda.is_available() else \"cpu\")\n",
    "model = MCDropoutCNN().to(device)\n",
    "criterion = nn.CrossEntropyLoss()\n",
    "optimizer = optim.Adam(model.parameters(), lr=1e-3)\n",
    "\n",
    "n_epochs = 10\n",
    "for epoch in range(n_epochs):\n",
    "    train_loss, train_acc = train_model(model, train_loader, criterion, optimizer, device)\n",
    "    preds, labels, uncertainty = evaluate_model(model, val_loader, device)\n",
    "    val_acc = (preds == labels).mean()\n",
    "    print(f\"Epoch {epoch+1}/{n_epochs} | Train Loss: {train_loss:.4f} | Train Acc: {train_acc:.4f} | Val Acc: {val_acc:.4f}\")\n"
   ]
  },
  {
   "cell_type": "code",
   "execution_count": 63,
   "id": "92fd0213-6d67-4ca8-be00-59b7f722dbf7",
   "metadata": {},
   "outputs": [
    {
     "name": "stdout",
     "output_type": "stream",
     "text": [
      "\n",
      "Classification Report:\n",
      "              precision    recall  f1-score   support\n",
      "\n",
      "           0       0.73      0.55      0.63        20\n",
      "           1       0.51      0.50      0.51        40\n",
      "           2       0.83      0.89      0.86        87\n",
      "\n",
      "    accuracy                           0.73       147\n",
      "   macro avg       0.69      0.65      0.66       147\n",
      "weighted avg       0.73      0.73      0.73       147\n",
      "\n"
     ]
    },
    {
     "data": {
      "image/png": "[encoded data removed]",
      "text/plain": [
       "<Figure size 600x500 with 2 Axes>"
      ]
     },
     "metadata": {},
     "output_type": "display_data"
    },
    {
     "data": {
      "image/png": "[encoded data removed]",
      "text/plain": [
       "<Figure size 640x480 with 1 Axes>"
      ]
     },
     "metadata": {},
     "output_type": "display_data"
    }
   ],
   "source": [
    "# ----------------------------\n",
    "# Evaluation Reports\n",
    "# ----------------------------\n",
    "print(\"\\nClassification Report:\")\n",
    "print(classification_report(labels, preds))\n",
    "\n",
    "# Confusion Matrix\n",
    "plt.figure(figsize=(6, 5))\n",
    "sns.heatmap(confusion_matrix(labels, preds), annot=True, fmt='d', cmap='Blues')\n",
    "plt.title(\"Confusion Matrix\")\n",
    "plt.xlabel(\"Predicted\")\n",
    "plt.ylabel(\"True\")\n",
    "plt.show()\n",
    "\n",
    "# Uncertainty Histogram\n",
    "plt.figure()\n",
    "plt.hist(uncertainty, bins=30)\n",
    "plt.title(\"Uncertainty Histogram (MC Dropout)\")\n",
    "plt.xlabel(\"Predictive StdDev\")\n",
    "plt.ylabel(\"Frequency\")\n",
    "plt.show()"
   ]
  },
  {
   "cell_type": "code",
   "execution_count": 67,
   "id": "97ed9f60-6c9b-46c5-8238-ff2b105ee5f9",
   "metadata": {},
   "outputs": [
    {
     "data": {
      "text/plain": [
       "0.7346938775510204"
      ]
     },
     "execution_count": 67,
     "metadata": {},
     "output_type": "execute_result"
    }
   ],
   "source": [
    "val_acc = (preds == labels).mean()\n",
    "val_acc"
   ]
  },
  {
   "cell_type": "code",
   "execution_count": 9,
   "id": "ca7db5e5-10ef-49f6-94fb-b781fb41303f",
   "metadata": {},
   "outputs": [],
   "source": [
    "# Bayesian CNN using Blitz (Bayesian Linear Layers)\n",
    "import torch\n",
    "import torch.nn as nn\n",
    "import torch.nn.functional as F\n",
    "import torch.optim as optim\n",
    "from torch.utils.data import DataLoader\n",
    "from torchvision import transforms\n",
    "from torchvision.utils import make_grid\n",
    "import matplotlib.pyplot as plt\n",
    "from sklearn.metrics import classification_report, confusion_matrix\n",
    "import seaborn as sns\n",
    "import numpy as np\n",
    "\n",
    "from blitz.modules import BayesianLinear\n",
    "from blitz.utils import variational_estimator\n",
    "from sklearn.model_selection import train_test_split"
   ]
  },
  {
   "cell_type": "code",
   "execution_count": 11,
   "id": "26267f72-0a27-424b-8461-ebacbfa9e140",
   "metadata": {},
   "outputs": [],
   "source": [
    "# ----------------------------\n",
    "# Bayesian CNN Model\n",
    "# ----------------------------\n",
    "@variational_estimator\n",
    "class BayesianCNN(nn.Module):\n",
    "    def __init__(self):\n",
    "        super().__init__()\n",
    "        self.conv1 = nn.Conv2d(1, 32, kernel_size=3, padding=1)\n",
    "        self.conv2 = nn.Conv2d(32, 64, kernel_size=3, padding=1)\n",
    "        self.pool = nn.MaxPool2d(2, 2)\n",
    "        self.fc1 = BayesianLinear(64 * 56 * 56, 128)\n",
    "        self.fc2 = BayesianLinear(128, 3)\n",
    "\n",
    "    def forward(self, x):\n",
    "        x = self.pool(F.relu(self.conv1(x)))\n",
    "        x = self.pool(F.relu(self.conv2(x)))\n",
    "        x = x.view(x.size(0), -1)\n",
    "        x = F.relu(self.fc1(x))\n",
    "        return self.fc2(x)"
   ]
  },
  {
   "cell_type": "code",
   "execution_count": 13,
   "id": "7c3c1281-d1a5-474c-9e42-89c4742671ef",
   "metadata": {},
   "outputs": [],
   "source": [
    "# ----------------------------\n",
    "# Training and Evaluation\n",
    "# ----------------------------\n",
    "def train_bayesian_model(model, dataloader, optimizer, device):\n",
    "    model.train()\n",
    "    total_loss = 0.0\n",
    "    correct = 0\n",
    "    total = 0\n",
    "    for x_batch, y_batch in dataloader:\n",
    "        x_batch, y_batch = x_batch.to(device), y_batch.to(device)\n",
    "        loss = model.sample_elbo(\n",
    "            inputs=x_batch,\n",
    "            labels=y_batch,\n",
    "            criterion=nn.CrossEntropyLoss(),\n",
    "            sample_nbr=3,\n",
    "            complexity_cost_weight=1e-6\n",
    "        )\n",
    "        optimizer.zero_grad()\n",
    "        loss.backward()\n",
    "        optimizer.step()\n",
    "        total_loss += loss.item() * x_batch.size(0)\n",
    "        with torch.no_grad():\n",
    "            preds = model(x_batch).argmax(dim=1)\n",
    "            correct += (preds == y_batch).sum().item()\n",
    "            total += y_batch.size(0)\n",
    "    return total_loss / total, correct / total\n",
    "\n",
    "def evaluate_bayesian_model(model, dataloader, device, n_iter=10):\n",
    "    model.eval()\n",
    "    preds_list = []\n",
    "    labels_list = []\n",
    "    with torch.no_grad():\n",
    "        for x_batch, y_batch in dataloader:\n",
    "            x_batch, y_batch = x_batch.to(device), y_batch.to(device)\n",
    "            outputs = torch.stack([model(x_batch) for _ in range(n_iter)], dim=0)  # [n_iter, B, C]\n",
    "            mean_outputs = outputs.mean(dim=0)  # [B, C]\n",
    "            preds = mean_outputs.argmax(dim=1)  # [B]\n",
    "            preds_list.extend(preds.cpu().numpy())\n",
    "            labels_list.extend(y_batch.cpu().numpy())\n",
    "    return np.array(preds_list), np.array(labels_list)"
   ]
  },
  {
   "cell_type": "code",
   "execution_count": null,
   "id": "b28f04c1-fadc-4ad7-b352-6a1d6a10d62e",
   "metadata": {},
   "outputs": [
    {
     "name": "stdout",
     "output_type": "stream",
     "text": [
      "Epoch 1/10 | Train Loss: 120.2472 | Train Acc: 0.6054 | Val Acc: 0.6054\n",
      "Epoch 2/10 | Train Loss: 116.2334 | Train Acc: 0.6956 | Val Acc: 0.6939\n",
      "Epoch 3/10 | Train Loss: 114.0321 | Train Acc: 0.7330 | Val Acc: 0.6190\n",
      "Epoch 4/10 | Train Loss: 112.4397 | Train Acc: 0.7670 | Val Acc: 0.7075\n",
      "Epoch 5/10 | Train Loss: 111.2301 | Train Acc: 0.8197 | Val Acc: 0.6803\n",
      "Epoch 6/10 | Train Loss: 110.1821 | Train Acc: 0.8946 | Val Acc: 0.6735\n",
      "Epoch 7/10 | Train Loss: 109.2960 | Train Acc: 0.9422 | Val Acc: 0.7075\n"
     ]
    }
   ],
   "source": [
    "# ----------------------------\n",
    "# Main Training Loop\n",
    "# ----------------------------\n",
    "device = torch.device(\"cuda\" if torch.cuda.is_available() else \"cpu\")\n",
    "model = BayesianCNN().to(device)\n",
    "optimizer = optim.Adam(model.parameters(), lr=1e-3)\n",
    "\n",
    "n_epochs = 10\n",
    "for epoch in range(n_epochs):\n",
    "    train_loss, train_acc = train_bayesian_model(model, train_loader, optimizer, device)\n",
    "    preds, labels = evaluate_bayesian_model(model, val_loader, device)\n",
    "    val_acc = (preds == labels).mean()\n",
    "    print(f\"Epoch {epoch+1}/{n_epochs} | Train Loss: {train_loss:.4f} | Train Acc: {train_acc:.4f} | Val Acc: {val_acc:.4f}\")\n"
   ]
  },
  {
   "cell_type": "code",
   "execution_count": 23,
   "id": "a680924a-c60a-4842-bf21-0b4c315108aa",
   "metadata": {},
   "outputs": [
    {
     "name": "stdout",
     "output_type": "stream",
     "text": [
      "\n",
      "Classification Report:\n",
      "              precision    recall  f1-score   support\n",
      "\n",
      "           0       0.63      0.60      0.62        20\n",
      "           1       0.55      0.60      0.57        40\n",
      "           2       0.86      0.83      0.84        87\n",
      "\n",
      "    accuracy                           0.73       147\n",
      "   macro avg       0.68      0.68      0.68       147\n",
      "weighted avg       0.74      0.73      0.74       147\n",
      "\n"
     ]
    },
    {
     "data": {
      "image/png": "[encoded data removed]",
      "text/plain": [
       "<Figure size 600x500 with 2 Axes>"
      ]
     },
     "metadata": {},
     "output_type": "display_data"
    }
   ],
   "source": [
    "# ----------------------------\n",
    "# Evaluation Reports\n",
    "# ----------------------------\n",
    "print(\"\\nClassification Report:\")\n",
    "print(classification_report(labels, preds))\n",
    "\n",
    "plt.figure(figsize=(6, 5))\n",
    "sns.heatmap(confusion_matrix(labels, preds), annot=True, fmt='d', cmap='Blues')\n",
    "plt.title(\"Confusion Matrix\")\n",
    "plt.xlabel(\"Predicted\")\n",
    "plt.ylabel(\"True\")\n",
    "plt.show()"
   ]
  },
  {
   "cell_type": "code",
   "execution_count": 35,
   "id": "2871d7d9-37eb-4e27-8270-30ec27446620",
   "metadata": {},
   "outputs": [
    {
     "data": {
      "image/png": "[encoded data removed]",
      "text/plain": [
       "<Figure size 640x480 with 1 Axes>"
      ]
     },
     "metadata": {},
     "output_type": "display_data"
    }
   ],
   "source": [
    "import matplotlib.pyplot as plt\n",
    "import torch.nn.functional as F\n",
    "\n",
    "# 从验证集中取一张图片\n",
    "sample_img, sample_label = val_dataset[100]\n",
    "x = sample_img.unsqueeze(0).to(device)  \n",
    "\n",
    "# 多次前向传播进行贝叶斯预测\n",
    "model.eval()\n",
    "with torch.no_grad():\n",
    "    probs = torch.stack([F.softmax(model(x), dim=1) for _ in range(20)], dim=0)  # [20, 1, 3]\n",
    "\n",
    "mean_probs = probs.mean(dim=0).squeeze()  # [3]\n",
    "std_probs = probs.std(dim=0).squeeze()    # [3]\n",
    "\n",
    "# 绘图：三分类的均值和标准差\n",
    "plt.bar(range(3),\n",
    "        mean_probs.detach().cpu().numpy(),\n",
    "        yerr=std_probs.detach().cpu().numpy(),\n",
    "        capsize=5)\n",
    "plt.xticks(range(3), [\"Normal\", \"Benign\", \"Malignant\"])\n",
    "plt.title(\"Bayesian Prediction with Uncertainty\")\n",
    "plt.ylabel(\"Probability\")\n",
    "plt.show()\n"
   ]
  }
 ],
 "metadata": {
  "kernelspec": {
   "display_name": "Python 3 (ipykernel)",
   "language": "python",
   "name": "python3"
  },
  "language_info": {
   "codemirror_mode": {
    "name": "ipython",
    "version": 3
   },
   "file_extension": ".py",
   "mimetype": "text/x-python",
   "name": "python",
   "nbconvert_exporter": "python",
   "pygments_lexer": "ipython3",
   "version": "3.12.4"
  }
 },
 "nbformat": 4,
 "nbformat_minor": 5
}
